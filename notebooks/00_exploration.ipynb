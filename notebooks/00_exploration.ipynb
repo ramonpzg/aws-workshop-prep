{
 "cells": [
  {
   "cell_type": "markdown",
   "id": "93c3eb53-ce77-4c00-9cd5-99763efe4474",
   "metadata": {},
   "source": [
    "# Welcome to My Ted Talk"
   ]
  },
  {
   "cell_type": "code",
   "execution_count": 50,
   "id": "5dd02bb2-be6d-4e23-b5fa-805a66edf2c4",
   "metadata": {},
   "outputs": [],
   "source": [
    "import urllib.request, os, sys, json, pickle, re\n",
    "from os.path import join\n",
    "import pandas as pd, numpy as np\n",
    "from sklearn.ensemble import RandomForestRegressor\n",
    "import sklearn.metrics as metrics"
   ]
  },
  {
   "cell_type": "code",
   "execution_count": 3,
   "id": "14d064ff-16a0-4708-aad8-8d48beb7e70f",
   "metadata": {},
   "outputs": [
    {
     "data": {
      "text/plain": [
       "'../data'"
      ]
     },
     "execution_count": 3,
     "metadata": {},
     "output_type": "execute_result"
    }
   ],
   "source": [
    "path = join(\"..\", \"data\")\n",
    "path"
   ]
  },
  {
   "cell_type": "markdown",
   "id": "d5dcc3c6-9f9c-4a2d-802a-e2f5b39c8fff",
   "metadata": {},
   "source": [
    "## 1. Get Data"
   ]
  },
  {
   "cell_type": "code",
   "execution_count": 4,
   "id": "353f9e37-d9e0-4efb-bd0e-86a03b20a96e",
   "metadata": {},
   "outputs": [],
   "source": [
    "url = 'https://archive.ics.uci.edu/ml/machine-learning-databases/00560/SeoulBikeData.csv'"
   ]
  },
  {
   "cell_type": "code",
   "execution_count": 6,
   "id": "6662678d-c0e9-41a1-bf39-5bf1211371d7",
   "metadata": {},
   "outputs": [],
   "source": [
    "raw_data = join(path, 'raw', \"SeoulBikeData.csv\")"
   ]
  },
  {
   "cell_type": "code",
   "execution_count": 7,
   "id": "999964eb-cf93-40c8-8604-d46fe8bb46b7",
   "metadata": {},
   "outputs": [
    {
     "data": {
      "text/plain": [
       "('../data/raw/SeoulBikeData.csv', <http.client.HTTPMessage at 0x7f4d24b8a290>)"
      ]
     },
     "execution_count": 7,
     "metadata": {},
     "output_type": "execute_result"
    }
   ],
   "source": [
    "urllib.request.urlretrieve(url, raw_data)"
   ]
  },
  {
   "cell_type": "code",
   "execution_count": 111,
   "id": "3aad3d35-674a-49e1-8175-1433c27051d0",
   "metadata": {},
   "outputs": [
    {
     "name": "stdout",
     "output_type": "stream",
     "text": [
      "Writing ../src/get_data.py\n"
     ]
    }
   ],
   "source": [
    "%%writefile ../src/get_data.py\n",
    "\n",
    "import urllib.request, os\n",
    "\n",
    "url = 'https://archive.ics.uci.edu/ml/machine-learning-databases/00560/SeoulBikeData.csv'\n",
    "path = os.path.join(\"..\", 'data', 'raw')\n",
    "filename = 'SeoulBikeData.csv'\n",
    "\n",
    "if not os.path.exists(path): os.makedirs(path)\n",
    "        \n",
    "urllib.request.urlretrieve(url, os.path.join(path, filename))"
   ]
  },
  {
   "cell_type": "markdown",
   "id": "539f6fa2-928f-47e3-be59-ece707b4c6c5",
   "metadata": {},
   "source": [
    "## 2. Prepare Data"
   ]
  },
  {
   "cell_type": "code",
   "execution_count": 10,
   "id": "b3f4b8fa-01d3-49fb-ba5b-1c181e426348",
   "metadata": {},
   "outputs": [
    {
     "name": "stdout",
     "output_type": "stream",
     "text": [
      "Date,Rented Bike Count,Hour,Temperature(�C),Humidity(%),Wind speed (m/s),Visibility (10m),Dew point temperature(�C),Solar Radiation (MJ/m2),Rainfall(mm),Snowfall (cm),Seasons,Holiday,Functioning Day\n",
      "01/12/2017,254,0,-5.2,37,2.2,2000,-17.6,0,0,0,Winter,No Holiday,Yes\n",
      "01/12/2017,204,1,-5.5,38,0.8,2000,-17.6,0,0,0,Winter,No Holiday,Yes\n",
      "01/12/2017,173,2,-6,39,1,2000,-17.7,0,0,0,Winter,No Holiday,Yes\n",
      "01/12/2017,107,3,-6.2,40,0.9,2000,-17.6,0,0,0,Winter,No Holiday,Yes\n"
     ]
    }
   ],
   "source": [
    "!head -n 5 {raw_data}"
   ]
  },
  {
   "cell_type": "code",
   "execution_count": 82,
   "id": "6a793676-4abf-4ddc-9db9-62857fb48743",
   "metadata": {},
   "outputs": [],
   "source": [
    "data = pd.read_csv(raw_data, encoding='iso-8859-1')\n",
    "data.head()"
   ]
  },
  {
   "cell_type": "code",
   "execution_count": 82,
   "id": "16601dad-8637-4620-a9a1-858f74335c5c",
   "metadata": {},
   "outputs": [],
   "source": [
    "data.columns"
   ]
  },
  {
   "cell_type": "code",
   "execution_count": 83,
   "id": "d80c882e-4d4a-48ea-9bf5-80e0ecc2cf9c",
   "metadata": {},
   "outputs": [],
   "source": [
    "data.info()"
   ]
  },
  {
   "cell_type": "code",
   "execution_count": 84,
   "id": "6bac6d4b-228e-4803-ab47-bc9414bb0e7b",
   "metadata": {},
   "outputs": [],
   "source": [
    "def clean_col_names(list_of_cols):\n",
    "    return [re.sub(r'[^a-zA-Z0-9\\s]', '', col).lower().replace(r\" \", \"_\") for col in list_of_cols]"
   ]
  },
  {
   "cell_type": "code",
   "execution_count": 85,
   "id": "47964b16-7cef-4324-89f8-955725b944ef",
   "metadata": {},
   "outputs": [],
   "source": [
    "data.columns = clean_col_names(data.columns)"
   ]
  },
  {
   "cell_type": "code",
   "execution_count": 86,
   "id": "b02f2dc6-8a08-47b2-b90c-c8a2ba293d28",
   "metadata": {},
   "outputs": [],
   "source": [
    "def extract_dates(data):\n",
    "    data['date'] = pd.to_datetime(data['date'], format=\"%d/%m/%Y\")\n",
    "    data.sort_values(['date', 'hour'], inplace=True)\n",
    "    data[\"year\"] = data['date'].dt.year\n",
    "    data[\"month\"] = data['date'].dt.month\n",
    "    data[\"week\"] = data['date'].dt.isocalendar().week\n",
    "    data[\"day\"] = data['date'].dt.day\n",
    "    data[\"day_of_week\"] = data['date'].dt.dayofweek\n",
    "    data[\"day_of_year\"] = data['date'].dt.dayofyear\n",
    "    data[\"is_month_end\"] = data['date'].dt.is_month_end\n",
    "    data[\"is_month_start\"] = data['date'].dt.is_month_start\n",
    "    data[\"is_quarter_end\"] = data['date'].dt.is_quarter_end\n",
    "    data[\"is_quarter_start\"] = data['date'].dt.is_quarter_start\n",
    "    data[\"is_year_end\"] = data['date'].dt.is_year_end\n",
    "    data[\"is_year_start\"] = data['date'].dt.is_year_start\n",
    "    data.drop('date', axis=1, inplace=True)\n",
    "    return data"
   ]
  },
  {
   "cell_type": "code",
   "execution_count": null,
   "id": "b6445a31-1173-480a-8ab8-fae460548ae2",
   "metadata": {},
   "outputs": [],
   "source": [
    "data = extract_dates(data)"
   ]
  },
  {
   "cell_type": "code",
   "execution_count": 87,
   "id": "ab954956-edc2-40b1-a13b-67e0cc765c24",
   "metadata": {},
   "outputs": [],
   "source": [
    "data_interim = join(path, \"interim\", \"clean_data.parquet\")"
   ]
  },
  {
   "cell_type": "code",
   "execution_count": 90,
   "id": "6303f927-0c68-442c-a2fa-76960f7224f0",
   "metadata": {},
   "outputs": [],
   "source": [
    "data = pd.get_dummies(data=data, columns=['holiday', 'seasons', 'functioning_day'])"
   ]
  },
  {
   "cell_type": "code",
   "execution_count": 88,
   "id": "60c36bb3-9cbb-464e-a4e2-21f84d34c11e",
   "metadata": {},
   "outputs": [],
   "source": [
    "data.to_parquet(data_interim, compression=\"snappy\")"
   ]
  },
  {
   "cell_type": "code",
   "execution_count": 115,
   "id": "5f0c398b-6074-4e75-9ac0-02469670a4c4",
   "metadata": {},
   "outputs": [
    {
     "name": "stdout",
     "output_type": "stream",
     "text": [
      "Overwriting ../src/prepare.py\n"
     ]
    }
   ],
   "source": [
    "%%writefile ../src/prepare.py\n",
    "\n",
    "import pandas as pd, os, sys, re\n",
    "\n",
    "raw_data = os.path.join(\"..\", \"data\", 'raw', \"SeoulBikeData.csv\")\n",
    "data_interim = os.path.join(\"..\", \"data\", \"interim\", \"clean_data.parquet\")\n",
    "\n",
    "data = pd.read_csv(raw_data, encoding='iso-8859-1')\n",
    "\n",
    "def clean_col_names(list_of_cols):\n",
    "    return [re.sub(r'[^a-zA-Z0-9\\s]', '', col).lower().replace(r\" \", \"_\") for col in list_of_cols]\n",
    "\n",
    "def extract_dates(data):\n",
    "    data['date'] = pd.to_datetime(data['date'], format=\"%d/%m/%Y\")\n",
    "    data.sort_values(['date', 'hour'], inplace=True)\n",
    "    data[\"year\"] = data['date'].dt.year\n",
    "    data[\"month\"] = data['date'].dt.month\n",
    "    data[\"week\"] = data['date'].dt.isocalendar().week\n",
    "    data[\"day\"] = data['date'].dt.day\n",
    "    data[\"day_of_week\"] = data['date'].dt.dayofweek\n",
    "    data[\"day_of_year\"] = data['date'].dt.dayofyear\n",
    "    data[\"is_month_end\"] = data['date'].dt.is_month_end\n",
    "    data[\"is_month_start\"] = data['date'].dt.is_month_start\n",
    "    data[\"is_quarter_end\"] = data['date'].dt.is_quarter_end\n",
    "    data[\"is_quarter_start\"] = data['date'].dt.is_quarter_start\n",
    "    data[\"is_year_end\"] = data['date'].dt.is_year_end\n",
    "    data[\"is_year_start\"] = data['date'].dt.is_year_start\n",
    "    data.drop('date', axis=1, inplace=True)\n",
    "    return data\n",
    "\n",
    "data.columns = clean_col_names(data.columns)\n",
    "data = extract_dates(data)\n",
    "data = pd.get_dummies(data=data, columns=['holiday', 'seasons', 'functioning_day'])\n",
    "data.to_parquet(data_interim, compression=\"snappy\")"
   ]
  },
  {
   "cell_type": "markdown",
   "id": "d96ffa33-c6d5-4b99-807b-67f99b4b7d86",
   "metadata": {},
   "source": [
    "## 3. Split Data"
   ]
  },
  {
   "cell_type": "code",
   "execution_count": 91,
   "id": "120ac6c8-7264-4f7e-a065-403108b422d6",
   "metadata": {},
   "outputs": [],
   "source": [
    "split = 0.30\n",
    "n_train = int(len(data) - len(data) * split)"
   ]
  },
  {
   "cell_type": "code",
   "execution_count": 94,
   "id": "1eb9d5f5-0edb-4ece-94e1-45646b3683ae",
   "metadata": {},
   "outputs": [],
   "source": [
    "train_path = join(path, 'processed', 'train.parquet')\n",
    "test_path = join(path, 'processed', 'test.parquet')"
   ]
  },
  {
   "cell_type": "code",
   "execution_count": 95,
   "id": "61395efc-817f-4aed-889a-3d277e308fa8",
   "metadata": {},
   "outputs": [],
   "source": [
    "data[:n_train].reset_index(drop=True).to_parquet(train_path, compression=\"snappy\")\n",
    "data[n_train:].reset_index(drop=True).to_parquet(test_path, compression=\"snappy\")"
   ]
  },
  {
   "cell_type": "code",
   "execution_count": 123,
   "id": "0ee222c5-7a48-4f4b-85d4-270bfedc8f71",
   "metadata": {},
   "outputs": [
    {
     "name": "stdout",
     "output_type": "stream",
     "text": [
      "Overwriting ../src/split_data.py\n"
     ]
    }
   ],
   "source": [
    "%%writefile ../src/split_data.py\n",
    "\n",
    "import pandas as pd, os\n",
    "\n",
    "data_interim = os.path.join(\"..\", \"data\", \"interim\", \"clean_data.parquet\")\n",
    "train_path = os.path.join(\"..\", \"data\", 'processed', 'train.parquet')\n",
    "test_path = os.path.join(\"..\", \"data\", 'processed', 'test.parquet')\n",
    "\n",
    "data = pd.read_parquet(data_interim)\n",
    "\n",
    "split = 0.30\n",
    "n_train = int(len(data) - len(data) * split)\n",
    "\n",
    "data[:n_train].reset_index(drop=True).to_parquet(train_path, compression=\"snappy\")\n",
    "data[n_train:].reset_index(drop=True).to_parquet(test_path, compression=\"snappy\")"
   ]
  },
  {
   "cell_type": "markdown",
   "id": "279fe837-73b7-4ad1-bb34-6570b104bd54",
   "metadata": {},
   "source": [
    "## 4. Train Model"
   ]
  },
  {
   "cell_type": "code",
   "execution_count": 96,
   "id": "a6d199b8-8a12-4e0d-a212-ba039af91df6",
   "metadata": {},
   "outputs": [],
   "source": [
    "X_train = pd.read_parquet(train_path)\n",
    "y_train = X_train.pop('rented_bike_count')"
   ]
  },
  {
   "cell_type": "code",
   "execution_count": 97,
   "id": "268c46dc-c506-406f-a4a4-4b5c892713be",
   "metadata": {},
   "outputs": [],
   "source": [
    "seed = 42\n",
    "n_est = 100"
   ]
  },
  {
   "cell_type": "code",
   "execution_count": 98,
   "id": "23dd0d8a-46a9-4aa1-8f9d-f6aa5a78f306",
   "metadata": {},
   "outputs": [
    {
     "name": "stdout",
     "output_type": "stream",
     "text": [
      "CPU times: user 3.67 s, sys: 25.9 ms, total: 3.7 s\n",
      "Wall time: 3.81 s\n"
     ]
    },
    {
     "data": {
      "text/html": [
       "<style>#sk-container-id-1 {color: black;background-color: white;}#sk-container-id-1 pre{padding: 0;}#sk-container-id-1 div.sk-toggleable {background-color: white;}#sk-container-id-1 label.sk-toggleable__label {cursor: pointer;display: block;width: 100%;margin-bottom: 0;padding: 0.3em;box-sizing: border-box;text-align: center;}#sk-container-id-1 label.sk-toggleable__label-arrow:before {content: \"▸\";float: left;margin-right: 0.25em;color: #696969;}#sk-container-id-1 label.sk-toggleable__label-arrow:hover:before {color: black;}#sk-container-id-1 div.sk-estimator:hover label.sk-toggleable__label-arrow:before {color: black;}#sk-container-id-1 div.sk-toggleable__content {max-height: 0;max-width: 0;overflow: hidden;text-align: left;background-color: #f0f8ff;}#sk-container-id-1 div.sk-toggleable__content pre {margin: 0.2em;color: black;border-radius: 0.25em;background-color: #f0f8ff;}#sk-container-id-1 input.sk-toggleable__control:checked~div.sk-toggleable__content {max-height: 200px;max-width: 100%;overflow: auto;}#sk-container-id-1 input.sk-toggleable__control:checked~label.sk-toggleable__label-arrow:before {content: \"▾\";}#sk-container-id-1 div.sk-estimator input.sk-toggleable__control:checked~label.sk-toggleable__label {background-color: #d4ebff;}#sk-container-id-1 div.sk-label input.sk-toggleable__control:checked~label.sk-toggleable__label {background-color: #d4ebff;}#sk-container-id-1 input.sk-hidden--visually {border: 0;clip: rect(1px 1px 1px 1px);clip: rect(1px, 1px, 1px, 1px);height: 1px;margin: -1px;overflow: hidden;padding: 0;position: absolute;width: 1px;}#sk-container-id-1 div.sk-estimator {font-family: monospace;background-color: #f0f8ff;border: 1px dotted black;border-radius: 0.25em;box-sizing: border-box;margin-bottom: 0.5em;}#sk-container-id-1 div.sk-estimator:hover {background-color: #d4ebff;}#sk-container-id-1 div.sk-parallel-item::after {content: \"\";width: 100%;border-bottom: 1px solid gray;flex-grow: 1;}#sk-container-id-1 div.sk-label:hover label.sk-toggleable__label {background-color: #d4ebff;}#sk-container-id-1 div.sk-serial::before {content: \"\";position: absolute;border-left: 1px solid gray;box-sizing: border-box;top: 0;bottom: 0;left: 50%;z-index: 0;}#sk-container-id-1 div.sk-serial {display: flex;flex-direction: column;align-items: center;background-color: white;padding-right: 0.2em;padding-left: 0.2em;position: relative;}#sk-container-id-1 div.sk-item {position: relative;z-index: 1;}#sk-container-id-1 div.sk-parallel {display: flex;align-items: stretch;justify-content: center;background-color: white;position: relative;}#sk-container-id-1 div.sk-item::before, #sk-container-id-1 div.sk-parallel-item::before {content: \"\";position: absolute;border-left: 1px solid gray;box-sizing: border-box;top: 0;bottom: 0;left: 50%;z-index: -1;}#sk-container-id-1 div.sk-parallel-item {display: flex;flex-direction: column;z-index: 1;position: relative;background-color: white;}#sk-container-id-1 div.sk-parallel-item:first-child::after {align-self: flex-end;width: 50%;}#sk-container-id-1 div.sk-parallel-item:last-child::after {align-self: flex-start;width: 50%;}#sk-container-id-1 div.sk-parallel-item:only-child::after {width: 0;}#sk-container-id-1 div.sk-dashed-wrapped {border: 1px dashed gray;margin: 0 0.4em 0.5em 0.4em;box-sizing: border-box;padding-bottom: 0.4em;background-color: white;}#sk-container-id-1 div.sk-label label {font-family: monospace;font-weight: bold;display: inline-block;line-height: 1.2em;}#sk-container-id-1 div.sk-label-container {text-align: center;}#sk-container-id-1 div.sk-container {/* jupyter's `normalize.less` sets `[hidden] { display: none; }` but bootstrap.min.css set `[hidden] { display: none !important; }` so we also need the `!important` here to be able to override the default hidden behavior on the sphinx rendered scikit-learn.org. See: https://github.com/scikit-learn/scikit-learn/issues/21755 */display: inline-block !important;position: relative;}#sk-container-id-1 div.sk-text-repr-fallback {display: none;}</style><div id=\"sk-container-id-1\" class=\"sk-top-container\"><div class=\"sk-text-repr-fallback\"><pre>RandomForestRegressor(random_state=42)</pre><b>In a Jupyter environment, please rerun this cell to show the HTML representation or trust the notebook. <br />On GitHub, the HTML representation is unable to render, please try loading this page with nbviewer.org.</b></div><div class=\"sk-container\" hidden><div class=\"sk-item\"><div class=\"sk-estimator sk-toggleable\"><input class=\"sk-toggleable__control sk-hidden--visually\" id=\"sk-estimator-id-1\" type=\"checkbox\" checked><label for=\"sk-estimator-id-1\" class=\"sk-toggleable__label sk-toggleable__label-arrow\">RandomForestRegressor</label><div class=\"sk-toggleable__content\"><pre>RandomForestRegressor(random_state=42)</pre></div></div></div></div></div>"
      ],
      "text/plain": [
       "RandomForestRegressor(random_state=42)"
      ]
     },
     "execution_count": 98,
     "metadata": {},
     "output_type": "execute_result"
    }
   ],
   "source": [
    "%%time\n",
    "\n",
    "rf = RandomForestRegressor(n_estimators=n_est, random_state=seed)\n",
    "rf.fit(X_train.values, y_train.values)"
   ]
  },
  {
   "cell_type": "code",
   "execution_count": 100,
   "id": "1067c330-21be-4b75-8078-c4a89bcd7b54",
   "metadata": {},
   "outputs": [
    {
     "data": {
      "text/plain": [
       "array([236.39, 216.06, 159.82, 102.32,  80.01,  91.96, 166.18, 422.35,\n",
       "       843.38, 447.64])"
      ]
     },
     "execution_count": 100,
     "metadata": {},
     "output_type": "execute_result"
    }
   ],
   "source": [
    "rf.predict(X_train.values)[:10]"
   ]
  },
  {
   "cell_type": "code",
   "execution_count": 101,
   "id": "08a3b86d-a843-4c59-b80c-e1308c61c9eb",
   "metadata": {},
   "outputs": [],
   "source": [
    "with open('../models/rf_model.pkl', \"wb\") as fd:\n",
    "    pickle.dump(rf, fd)"
   ]
  },
  {
   "cell_type": "code",
   "execution_count": 121,
   "id": "933829d2-bb4a-4482-ad5c-3dbaaecb7497",
   "metadata": {},
   "outputs": [
    {
     "name": "stdout",
     "output_type": "stream",
     "text": [
      "Writing ../src/train_model.py\n"
     ]
    }
   ],
   "source": [
    "%%writefile ../src/train_model.py\n",
    "\n",
    "import pandas as pd, os\n",
    "from sklearn.ensemble import RandomForestRegressor\n",
    "\n",
    "train_path = os.path.join(\"..\", \"data\", 'processed', 'train.parquet')\n",
    "\n",
    "X_train = pd.read_parquet(train_path)\n",
    "y_train = X_train.pop('rented_bike_count')\n",
    "\n",
    "seed = 42\n",
    "n_est = 100\n",
    "\n",
    "rf = RandomForestRegressor(n_estimators=n_est, random_state=seed)\n",
    "rf.fit(X_train.values, y_train.values)\n",
    "\n",
    "with open(os.path.join('..', 'models', 'rf_model.pkl'), \"wb\") as fd:\n",
    "    pickle.dump(rf, fd)"
   ]
  },
  {
   "cell_type": "markdown",
   "id": "9b01e0c7-9517-433a-bc92-ffb83338a793",
   "metadata": {},
   "source": [
    "## 5. Evaluate"
   ]
  },
  {
   "cell_type": "code",
   "execution_count": 102,
   "id": "e6d5d725-a19e-4e0e-a05d-34f3d18c2529",
   "metadata": {},
   "outputs": [],
   "source": [
    "with open('../models/rf_model.pkl', \"rb\") as fd:\n",
    "    model = pickle.load(fd)"
   ]
  },
  {
   "cell_type": "code",
   "execution_count": 105,
   "id": "34903e4a-4d6b-4dc6-ad69-06505bd17ba2",
   "metadata": {},
   "outputs": [],
   "source": [
    "X_test = pd.read_parquet(test_path)\n",
    "y_test = X_test.pop('rented_bike_count')"
   ]
  },
  {
   "cell_type": "code",
   "execution_count": 107,
   "id": "2118b87e-35cb-43a4-9c84-18f908af8c86",
   "metadata": {},
   "outputs": [
    {
     "data": {
      "text/plain": [
       "array([ 701.82,  711.5 ,  674.75,  722.74,  879.71, 1303.26, 2228.5 ,\n",
       "       1901.35, 1787.42, 1761.24])"
      ]
     },
     "execution_count": 107,
     "metadata": {},
     "output_type": "execute_result"
    }
   ],
   "source": [
    "predictions = model.predict(X_test.values)\n",
    "predictions[:10]"
   ]
  },
  {
   "cell_type": "code",
   "execution_count": 108,
   "id": "03fa6fe7-3eaf-483b-8c8b-a1b385ddf74b",
   "metadata": {},
   "outputs": [],
   "source": [
    "mae = metrics.mean_absolute_error(y_test.values, predictions)\n",
    "rmse = np.sqrt(metrics.mean_squared_error(y_test.values, predictions))\n",
    "r2_score = model.score(X_test.values, y_test.values)"
   ]
  },
  {
   "cell_type": "code",
   "execution_count": 109,
   "id": "58a6da7e-c22c-418b-b8a6-e6a98baf83dd",
   "metadata": {},
   "outputs": [
    {
     "name": "stdout",
     "output_type": "stream",
     "text": [
      "Mean Absolute Error: 267.47\n",
      "Root Mean Square Error: 394.82\n",
      "R^2: 0.629\n"
     ]
    }
   ],
   "source": [
    "print(f\"Mean Absolute Error: {mae:.2f}\")\n",
    "print(f\"Root Mean Square Error: {rmse:.2f}\")\n",
    "print(f\"R^2: {r2_score:.3f}\")"
   ]
  },
  {
   "cell_type": "code",
   "execution_count": 110,
   "id": "72496b03-3d9c-4def-83da-132cd89b462a",
   "metadata": {},
   "outputs": [],
   "source": [
    "with open(join('..', \"reports\", 'metrics.json'), \"w\") as fd:\n",
    "    json.dump({\"MAE\": mae, \"RMSE\": rmse, \"R^2\":r2_score}, fd, indent=4)"
   ]
  },
  {
   "cell_type": "code",
   "execution_count": 124,
   "id": "37162c61-f05e-426b-919d-7130893b39bf",
   "metadata": {},
   "outputs": [
    {
     "name": "stdout",
     "output_type": "stream",
     "text": [
      "Writing ../src/evaluate.py\n"
     ]
    }
   ],
   "source": [
    "%%writefile ../src/evaluate.py\n",
    "\n",
    "import pandas as pd, os\n",
    "import sklearn.metrics as metrics\n",
    "\n",
    "model_path = os.path.join('..', 'models', 'rf_model.pkl')\n",
    "metrics_path = os.path.join('..', \"reports\", 'metrics.json')\n",
    "test_path = os.path.join(\"..\", \"data\", 'processed', 'test.parquet')\n",
    "\n",
    "with open(model_path, \"rb\") as fd:\n",
    "    model = pickle.load(fd)\n",
    "\n",
    "X_test = pd.read_parquet(test_path)\n",
    "y_test = X_test.pop('rented_bike_count')\n",
    "\n",
    "mae = metrics.mean_absolute_error(y_test.values, predictions)\n",
    "rmse = np.sqrt(metrics.mean_squared_error(y_test.values, predictions))\n",
    "r2_score = model.score(X_test.values, y_test.values)\n",
    "\n",
    "with open(metrics_path, \"w\") as fd:\n",
    "    json.dump({\"MAE\": mae, \"RMSE\": rmse, \"R^2\":r2_score}, fd, indent=4)"
   ]
  },
  {
   "cell_type": "code",
   "execution_count": null,
   "id": "63694f13-48f8-44ff-9aa2-27d0ffbd7b91",
   "metadata": {},
   "outputs": [],
   "source": []
  }
 ],
 "metadata": {
  "kernelspec": {
   "display_name": "Python 3 (ipykernel)",
   "language": "python",
   "name": "python3"
  },
  "language_info": {
   "codemirror_mode": {
    "name": "ipython",
    "version": 3
   },
   "file_extension": ".py",
   "mimetype": "text/x-python",
   "name": "python",
   "nbconvert_exporter": "python",
   "pygments_lexer": "ipython3",
   "version": "3.10.4"
  }
 },
 "nbformat": 4,
 "nbformat_minor": 5
}
